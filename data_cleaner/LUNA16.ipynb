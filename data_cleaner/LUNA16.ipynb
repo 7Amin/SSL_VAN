{
 "cells": [
  {
   "cell_type": "code",
   "execution_count": 1,
   "metadata": {},
   "outputs": [],
   "source": [
    "import pandas as pd\n",
    "import json"
   ]
  },
  {
   "cell_type": "code",
   "execution_count": 2,
   "metadata": {},
   "outputs": [],
   "source": [
    "json_url = \"/home/amin/CETI/medical_image/SSL_VAN/jsons/dataset_LUNA16_0.json\"\n",
    "csv_url = \"/media/amin/SP PHD U3/CT_Segmentation_Images/3D/LUNA_16/manifest-1600709154662/metadata.csv\"\n",
    "output_url = \"/home/amin/CETI/medical_image/SSL_VAN/input_list/dataset_LUNA16_List.json\""
   ]
  },
  {
   "cell_type": "code",
   "execution_count": 3,
   "metadata": {},
   "outputs": [],
   "source": [
    "f = open(json_url)\n",
    "json_data = json.load(f)"
   ]
  },
  {
   "cell_type": "code",
   "execution_count": 4,
   "metadata": {},
   "outputs": [
    {
     "data": {
      "text/plain": [
       "843"
      ]
     },
     "execution_count": 4,
     "metadata": {},
     "output_type": "execute_result"
    }
   ],
   "source": [
    "len(json_data['training'])"
   ]
  },
  {
   "cell_type": "code",
   "execution_count": 5,
   "metadata": {},
   "outputs": [
    {
     "data": {
      "text/plain": [
       "45"
      ]
     },
     "execution_count": 5,
     "metadata": {},
     "output_type": "execute_result"
    }
   ],
   "source": [
    "len(json_data['validation'])"
   ]
  },
  {
   "cell_type": "code",
   "execution_count": 6,
   "metadata": {},
   "outputs": [],
   "source": [
    "df = pd.read_csv(csv_url)"
   ]
  },
  {
   "cell_type": "code",
   "execution_count": 7,
   "metadata": {},
   "outputs": [
    {
     "data": {
      "text/html": [
       "<div>\n",
       "<style scoped>\n",
       "    .dataframe tbody tr th:only-of-type {\n",
       "        vertical-align: middle;\n",
       "    }\n",
       "\n",
       "    .dataframe tbody tr th {\n",
       "        vertical-align: top;\n",
       "    }\n",
       "\n",
       "    .dataframe thead th {\n",
       "        text-align: right;\n",
       "    }\n",
       "</style>\n",
       "<table border=\"1\" class=\"dataframe\">\n",
       "  <thead>\n",
       "    <tr style=\"text-align: right;\">\n",
       "      <th></th>\n",
       "      <th>Series UID</th>\n",
       "      <th>Collection</th>\n",
       "      <th>3rd Party Analysis</th>\n",
       "      <th>Data Description URI</th>\n",
       "      <th>Subject ID</th>\n",
       "      <th>Study UID</th>\n",
       "      <th>Study Description</th>\n",
       "      <th>Study Date</th>\n",
       "      <th>Series Description</th>\n",
       "      <th>Manufacturer</th>\n",
       "      <th>Modality</th>\n",
       "      <th>SOP Class Name</th>\n",
       "      <th>SOP Class UID</th>\n",
       "      <th>Number of Images</th>\n",
       "      <th>File Size</th>\n",
       "      <th>File Location</th>\n",
       "      <th>Download Timestamp</th>\n",
       "    </tr>\n",
       "  </thead>\n",
       "  <tbody>\n",
       "    <tr>\n",
       "      <th>0</th>\n",
       "      <td>1.3.6.1.4.1.14519.5.2.1.6279.6001.493562949900...</td>\n",
       "      <td>LIDC-IDRI</td>\n",
       "      <td>NaN</td>\n",
       "      <td>https://doi.org/10.7937/K9/TCIA.2015.LO9QL9SX</td>\n",
       "      <td>LIDC-IDRI-0002</td>\n",
       "      <td>1.3.6.1.4.1.14519.5.2.1.6279.6001.116951808801...</td>\n",
       "      <td>NaN</td>\n",
       "      <td>01-01-2000</td>\n",
       "      <td>NaN</td>\n",
       "      <td>GE MEDICAL SYSTEMS</td>\n",
       "      <td>DX</td>\n",
       "      <td>Digital X-Ray Image Storage - For Presentation</td>\n",
       "      <td>1.2.840.10008.5.1.4.1.1.1.1</td>\n",
       "      <td>1</td>\n",
       "      <td>6.91 MB</td>\n",
       "      <td>./LIDC-IDRI/LIDC-IDRI-0002/01-01-2000-NA-NA-26...</td>\n",
       "      <td>2023-02-08T16:15:34.934</td>\n",
       "    </tr>\n",
       "    <tr>\n",
       "      <th>1</th>\n",
       "      <td>1.3.6.1.4.1.14519.5.2.1.6279.6001.141365756818...</td>\n",
       "      <td>LIDC-IDRI</td>\n",
       "      <td>NaN</td>\n",
       "      <td>https://doi.org/10.7937/K9/TCIA.2015.LO9QL9SX</td>\n",
       "      <td>LIDC-IDRI-0001</td>\n",
       "      <td>1.3.6.1.4.1.14519.5.2.1.6279.6001.175012972118...</td>\n",
       "      <td>NaN</td>\n",
       "      <td>01-01-2000</td>\n",
       "      <td>NaN</td>\n",
       "      <td>GE MEDICAL SYSTEMS</td>\n",
       "      <td>DX</td>\n",
       "      <td>Digital X-Ray Image Storage - For Presentation</td>\n",
       "      <td>1.2.840.10008.5.1.4.1.1.1.1</td>\n",
       "      <td>2</td>\n",
       "      <td>16.36 MB</td>\n",
       "      <td>./LIDC-IDRI/LIDC-IDRI-0001/01-01-2000-NA-NA-35...</td>\n",
       "      <td>2023-02-08T16:15:36.908</td>\n",
       "    </tr>\n",
       "    <tr>\n",
       "      <th>2</th>\n",
       "      <td>1.3.6.1.4.1.14519.5.2.1.6279.6001.179049373636...</td>\n",
       "      <td>LIDC-IDRI</td>\n",
       "      <td>NaN</td>\n",
       "      <td>https://doi.org/10.7937/K9/TCIA.2015.LO9QL9SX</td>\n",
       "      <td>LIDC-IDRI-0001</td>\n",
       "      <td>1.3.6.1.4.1.14519.5.2.1.6279.6001.298806137288...</td>\n",
       "      <td>NaN</td>\n",
       "      <td>01-01-2000</td>\n",
       "      <td>NaN</td>\n",
       "      <td>GE MEDICAL SYSTEMS</td>\n",
       "      <td>CT</td>\n",
       "      <td>CT Image Storage</td>\n",
       "      <td>1.2.840.10008.5.1.4.1.1.2</td>\n",
       "      <td>133</td>\n",
       "      <td>70.33 MB</td>\n",
       "      <td>./LIDC-IDRI/LIDC-IDRI-0001/01-01-2000-NA-NA-30...</td>\n",
       "      <td>2023-02-08T16:15:51.301</td>\n",
       "    </tr>\n",
       "    <tr>\n",
       "      <th>3</th>\n",
       "      <td>1.3.6.1.4.1.14519.5.2.1.6279.6001.170706757615...</td>\n",
       "      <td>LIDC-IDRI</td>\n",
       "      <td>NaN</td>\n",
       "      <td>https://doi.org/10.7937/K9/TCIA.2015.LO9QL9SX</td>\n",
       "      <td>LIDC-IDRI-0003</td>\n",
       "      <td>1.3.6.1.4.1.14519.5.2.1.6279.6001.101370605276...</td>\n",
       "      <td>NaN</td>\n",
       "      <td>01-01-2000</td>\n",
       "      <td>NaN</td>\n",
       "      <td>GE MEDICAL SYSTEMS</td>\n",
       "      <td>CT</td>\n",
       "      <td>CT Image Storage</td>\n",
       "      <td>1.2.840.10008.5.1.4.1.1.2</td>\n",
       "      <td>140</td>\n",
       "      <td>74.11 MB</td>\n",
       "      <td>./LIDC-IDRI/LIDC-IDRI-0003/01-01-2000-NA-NA-94...</td>\n",
       "      <td>2023-02-08T16:15:56.029</td>\n",
       "    </tr>\n",
       "    <tr>\n",
       "      <th>4</th>\n",
       "      <td>1.3.6.1.4.1.14519.5.2.1.6279.6001.142026812390...</td>\n",
       "      <td>LIDC-IDRI</td>\n",
       "      <td>NaN</td>\n",
       "      <td>https://doi.org/10.7937/K9/TCIA.2015.LO9QL9SX</td>\n",
       "      <td>LIDC-IDRI-0003</td>\n",
       "      <td>1.3.6.1.4.1.14519.5.2.1.6279.6001.202063331127...</td>\n",
       "      <td>NaN</td>\n",
       "      <td>01-01-2000</td>\n",
       "      <td>NaN</td>\n",
       "      <td>GE MEDICAL SYSTEMS</td>\n",
       "      <td>DX</td>\n",
       "      <td>Digital X-Ray Image Storage - For Presentation</td>\n",
       "      <td>1.2.840.10008.5.1.4.1.1.1.1</td>\n",
       "      <td>5</td>\n",
       "      <td>38.59 MB</td>\n",
       "      <td>./LIDC-IDRI/LIDC-IDRI-0003/01-01-2000-NA-NA-59...</td>\n",
       "      <td>2023-02-08T16:15:59.023</td>\n",
       "    </tr>\n",
       "  </tbody>\n",
       "</table>\n",
       "</div>"
      ],
      "text/plain": [
       "                                          Series UID Collection  \\\n",
       "0  1.3.6.1.4.1.14519.5.2.1.6279.6001.493562949900...  LIDC-IDRI   \n",
       "1  1.3.6.1.4.1.14519.5.2.1.6279.6001.141365756818...  LIDC-IDRI   \n",
       "2  1.3.6.1.4.1.14519.5.2.1.6279.6001.179049373636...  LIDC-IDRI   \n",
       "3  1.3.6.1.4.1.14519.5.2.1.6279.6001.170706757615...  LIDC-IDRI   \n",
       "4  1.3.6.1.4.1.14519.5.2.1.6279.6001.142026812390...  LIDC-IDRI   \n",
       "\n",
       "   3rd Party Analysis                           Data Description URI  \\\n",
       "0                 NaN  https://doi.org/10.7937/K9/TCIA.2015.LO9QL9SX   \n",
       "1                 NaN  https://doi.org/10.7937/K9/TCIA.2015.LO9QL9SX   \n",
       "2                 NaN  https://doi.org/10.7937/K9/TCIA.2015.LO9QL9SX   \n",
       "3                 NaN  https://doi.org/10.7937/K9/TCIA.2015.LO9QL9SX   \n",
       "4                 NaN  https://doi.org/10.7937/K9/TCIA.2015.LO9QL9SX   \n",
       "\n",
       "       Subject ID                                          Study UID  \\\n",
       "0  LIDC-IDRI-0002  1.3.6.1.4.1.14519.5.2.1.6279.6001.116951808801...   \n",
       "1  LIDC-IDRI-0001  1.3.6.1.4.1.14519.5.2.1.6279.6001.175012972118...   \n",
       "2  LIDC-IDRI-0001  1.3.6.1.4.1.14519.5.2.1.6279.6001.298806137288...   \n",
       "3  LIDC-IDRI-0003  1.3.6.1.4.1.14519.5.2.1.6279.6001.101370605276...   \n",
       "4  LIDC-IDRI-0003  1.3.6.1.4.1.14519.5.2.1.6279.6001.202063331127...   \n",
       "\n",
       "  Study Description  Study Date Series Description        Manufacturer  \\\n",
       "0               NaN  01-01-2000                NaN  GE MEDICAL SYSTEMS   \n",
       "1               NaN  01-01-2000                NaN  GE MEDICAL SYSTEMS   \n",
       "2               NaN  01-01-2000                NaN  GE MEDICAL SYSTEMS   \n",
       "3               NaN  01-01-2000                NaN  GE MEDICAL SYSTEMS   \n",
       "4               NaN  01-01-2000                NaN  GE MEDICAL SYSTEMS   \n",
       "\n",
       "  Modality                                  SOP Class Name  \\\n",
       "0       DX  Digital X-Ray Image Storage - For Presentation   \n",
       "1       DX  Digital X-Ray Image Storage - For Presentation   \n",
       "2       CT                                CT Image Storage   \n",
       "3       CT                                CT Image Storage   \n",
       "4       DX  Digital X-Ray Image Storage - For Presentation   \n",
       "\n",
       "                 SOP Class UID  Number of Images File Size  \\\n",
       "0  1.2.840.10008.5.1.4.1.1.1.1                 1   6.91 MB   \n",
       "1  1.2.840.10008.5.1.4.1.1.1.1                 2  16.36 MB   \n",
       "2    1.2.840.10008.5.1.4.1.1.2               133  70.33 MB   \n",
       "3    1.2.840.10008.5.1.4.1.1.2               140  74.11 MB   \n",
       "4  1.2.840.10008.5.1.4.1.1.1.1                 5  38.59 MB   \n",
       "\n",
       "                                       File Location       Download Timestamp  \n",
       "0  ./LIDC-IDRI/LIDC-IDRI-0002/01-01-2000-NA-NA-26...  2023-02-08T16:15:34.934  \n",
       "1  ./LIDC-IDRI/LIDC-IDRI-0001/01-01-2000-NA-NA-35...  2023-02-08T16:15:36.908  \n",
       "2  ./LIDC-IDRI/LIDC-IDRI-0001/01-01-2000-NA-NA-30...  2023-02-08T16:15:51.301  \n",
       "3  ./LIDC-IDRI/LIDC-IDRI-0003/01-01-2000-NA-NA-94...  2023-02-08T16:15:56.029  \n",
       "4  ./LIDC-IDRI/LIDC-IDRI-0003/01-01-2000-NA-NA-59...  2023-02-08T16:15:59.023  "
      ]
     },
     "execution_count": 7,
     "metadata": {},
     "output_type": "execute_result"
    }
   ],
   "source": [
    "df.head()"
   ]
  },
  {
   "cell_type": "code",
   "execution_count": 8,
   "metadata": {},
   "outputs": [
    {
     "data": {
      "text/plain": [
       "'subset_0/1.3.6.1.4.1.14519.5.2.1.6279.6001.979083010707182900091062408058.nii.gz'"
      ]
     },
     "execution_count": 8,
     "metadata": {},
     "output_type": "execute_result"
    }
   ],
   "source": [
    "json_data['training'][0]['image']"
   ]
  },
  {
   "cell_type": "code",
   "execution_count": 9,
   "metadata": {},
   "outputs": [
    {
     "data": {
      "text/plain": [
       "'1.3.6.1.4.1.14519.5.2.1.6279.6001.979083010707182900091062408058'"
      ]
     },
     "execution_count": 9,
     "metadata": {},
     "output_type": "execute_result"
    }
   ],
   "source": [
    "json_data['training'][0]['image'].split('/')[1][:-7]"
   ]
  },
  {
   "cell_type": "code",
   "execution_count": 10,
   "metadata": {},
   "outputs": [
    {
     "data": {
      "text/html": [
       "<div>\n",
       "<style scoped>\n",
       "    .dataframe tbody tr th:only-of-type {\n",
       "        vertical-align: middle;\n",
       "    }\n",
       "\n",
       "    .dataframe tbody tr th {\n",
       "        vertical-align: top;\n",
       "    }\n",
       "\n",
       "    .dataframe thead th {\n",
       "        text-align: right;\n",
       "    }\n",
       "</style>\n",
       "<table border=\"1\" class=\"dataframe\">\n",
       "  <thead>\n",
       "    <tr style=\"text-align: right;\">\n",
       "      <th></th>\n",
       "      <th>Series UID</th>\n",
       "      <th>Collection</th>\n",
       "      <th>3rd Party Analysis</th>\n",
       "      <th>Data Description URI</th>\n",
       "      <th>Subject ID</th>\n",
       "      <th>Study UID</th>\n",
       "      <th>Study Description</th>\n",
       "      <th>Study Date</th>\n",
       "      <th>Series Description</th>\n",
       "      <th>Manufacturer</th>\n",
       "      <th>Modality</th>\n",
       "      <th>SOP Class Name</th>\n",
       "      <th>SOP Class UID</th>\n",
       "      <th>Number of Images</th>\n",
       "      <th>File Size</th>\n",
       "      <th>File Location</th>\n",
       "      <th>Download Timestamp</th>\n",
       "    </tr>\n",
       "  </thead>\n",
       "  <tbody>\n",
       "    <tr>\n",
       "      <th>773</th>\n",
       "      <td>1.3.6.1.4.1.14519.5.2.1.6279.6001.979083010707...</td>\n",
       "      <td>LIDC-IDRI</td>\n",
       "      <td>NaN</td>\n",
       "      <td>https://doi.org/10.7937/K9/TCIA.2015.LO9QL9SX</td>\n",
       "      <td>LIDC-IDRI-0480</td>\n",
       "      <td>1.3.6.1.4.1.14519.5.2.1.6279.6001.167583044843...</td>\n",
       "      <td>NaN</td>\n",
       "      <td>01-01-2000</td>\n",
       "      <td>NaN</td>\n",
       "      <td>GE MEDICAL SYSTEMS</td>\n",
       "      <td>CT</td>\n",
       "      <td>CT Image Storage</td>\n",
       "      <td>1.2.840.10008.5.1.4.1.1.2</td>\n",
       "      <td>140</td>\n",
       "      <td>73.74 MB</td>\n",
       "      <td>./LIDC-IDRI/LIDC-IDRI-0480/01-01-2000-NA-NA-96...</td>\n",
       "      <td>2023-02-08T17:26:24.596</td>\n",
       "    </tr>\n",
       "  </tbody>\n",
       "</table>\n",
       "</div>"
      ],
      "text/plain": [
       "                                            Series UID Collection  \\\n",
       "773  1.3.6.1.4.1.14519.5.2.1.6279.6001.979083010707...  LIDC-IDRI   \n",
       "\n",
       "     3rd Party Analysis                           Data Description URI  \\\n",
       "773                 NaN  https://doi.org/10.7937/K9/TCIA.2015.LO9QL9SX   \n",
       "\n",
       "         Subject ID                                          Study UID  \\\n",
       "773  LIDC-IDRI-0480  1.3.6.1.4.1.14519.5.2.1.6279.6001.167583044843...   \n",
       "\n",
       "    Study Description  Study Date Series Description        Manufacturer  \\\n",
       "773               NaN  01-01-2000                NaN  GE MEDICAL SYSTEMS   \n",
       "\n",
       "    Modality    SOP Class Name              SOP Class UID  Number of Images  \\\n",
       "773       CT  CT Image Storage  1.2.840.10008.5.1.4.1.1.2               140   \n",
       "\n",
       "    File Size                                      File Location  \\\n",
       "773  73.74 MB  ./LIDC-IDRI/LIDC-IDRI-0480/01-01-2000-NA-NA-96...   \n",
       "\n",
       "          Download Timestamp  \n",
       "773  2023-02-08T17:26:24.596  "
      ]
     },
     "execution_count": 10,
     "metadata": {},
     "output_type": "execute_result"
    }
   ],
   "source": [
    "df[df['Series UID'] == '1.3.6.1.4.1.14519.5.2.1.6279.6001.979083010707182900091062408058']"
   ]
  },
  {
   "cell_type": "code",
   "execution_count": 11,
   "metadata": {},
   "outputs": [
    {
     "data": {
      "text/plain": [
       "'./LIDC-IDRI/LIDC-IDRI-0480/01-01-2000-NA-NA-96977/30459.000000-NA-08058'"
      ]
     },
     "execution_count": 11,
     "metadata": {},
     "output_type": "execute_result"
    }
   ],
   "source": [
    "df[df['Series UID'] == '1.3.6.1.4.1.14519.5.2.1.6279.6001.979083010707182900091062408058']['File Location'].iloc[0]"
   ]
  },
  {
   "cell_type": "code",
   "execution_count": 19,
   "metadata": {},
   "outputs": [],
   "source": [
    "training = []\n",
    "validation = []"
   ]
  },
  {
   "cell_type": "code",
   "execution_count": 20,
   "metadata": {},
   "outputs": [],
   "source": [
    "for row in json_data['training']:\n",
    "    name = str(row['image'].split('/')[1][:-7])\n",
    "    temp = df[df['Series UID'] == name]\n",
    "    files_dir = str(temp['File Location'].iloc[0])\n",
    "    class_name = str(temp['SOP Class Name'].iloc[0])\n",
    "    number_image = str(temp['Number of Images'].iloc[0])\n",
    "    subject_id = str(temp['Subject ID'].iloc[0])\n",
    "    study_uid = str(temp['Study UID'].iloc[0])\n",
    "    series_uid = str(temp['Series UID'].iloc[0])\n",
    "    training.append({\n",
    "        'name': name,\n",
    "        'files_dir': files_dir,\n",
    "        'class_name': class_name,\n",
    "        'number_image': number_image,\n",
    "        'subject_id': subject_id,\n",
    "        'study_uid': study_uid,\n",
    "        'series_uid': series_uid\n",
    "    })"
   ]
  },
  {
   "cell_type": "code",
   "execution_count": 21,
   "metadata": {},
   "outputs": [
    {
     "data": {
      "text/plain": [
       "843"
      ]
     },
     "execution_count": 21,
     "metadata": {},
     "output_type": "execute_result"
    }
   ],
   "source": [
    "len(training)"
   ]
  },
  {
   "cell_type": "code",
   "execution_count": 22,
   "metadata": {},
   "outputs": [],
   "source": [
    "for row in json_data['validation']:\n",
    "    name = str(row['image'].split('/')[1][:-7])\n",
    "    temp = df[df['Series UID'] == name]\n",
    "    files_dir = str(temp['File Location'].iloc[0])\n",
    "    class_name = str(temp['SOP Class Name'].iloc[0])\n",
    "    number_image = str(temp['Number of Images'].iloc[0])\n",
    "    subject_id = str(temp['Subject ID'].iloc[0])\n",
    "    study_uid = str(temp['Study UID'].iloc[0])\n",
    "    series_uid = str(temp['Series UID'].iloc[0])\n",
    "    validation.append({\n",
    "        'name': name,\n",
    "        'files_dir': files_dir,\n",
    "        'class_name': class_name,\n",
    "        'number_image': number_image,\n",
    "        'subject_id': subject_id,\n",
    "        'study_uid': study_uid,\n",
    "        'series_uid': series_uid\n",
    "    })"
   ]
  },
  {
   "cell_type": "code",
   "execution_count": 23,
   "metadata": {},
   "outputs": [
    {
     "data": {
      "text/plain": [
       "45"
      ]
     },
     "execution_count": 23,
     "metadata": {},
     "output_type": "execute_result"
    }
   ],
   "source": [
    "len(validation)"
   ]
  },
  {
   "cell_type": "code",
   "execution_count": 24,
   "metadata": {},
   "outputs": [],
   "source": [
    "result = {}\n",
    "result['training'] = training\n",
    "result['validation'] = validation"
   ]
  },
  {
   "cell_type": "code",
   "execution_count": 25,
   "metadata": {},
   "outputs": [],
   "source": [
    "with open(output_url, \"w\") as outfile:\n",
    "    json.dump(result, outfile, indent=4)"
   ]
  },
  {
   "cell_type": "code",
   "execution_count": null,
   "metadata": {},
   "outputs": [],
   "source": []
  }
 ],
 "metadata": {
  "kernelspec": {
   "display_name": "Python 3 (ipykernel)",
   "language": "python",
   "name": "python3"
  },
  "language_info": {
   "codemirror_mode": {
    "name": "ipython",
    "version": 3
   },
   "file_extension": ".py",
   "mimetype": "text/x-python",
   "name": "python",
   "nbconvert_exporter": "python",
   "pygments_lexer": "ipython3",
   "version": "3.10.6"
  }
 },
 "nbformat": 4,
 "nbformat_minor": 1
}
